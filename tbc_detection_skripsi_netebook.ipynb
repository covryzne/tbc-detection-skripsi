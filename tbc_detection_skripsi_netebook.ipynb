{
  "nbformat": 4,
  "nbformat_minor": 0,
  "metadata": {
    "colab": {
      "provenance": [],
      "toc_visible": true,
      "gpuType": "T4",
      "authorship_tag": "ABX9TyNad12wBd+AsyDA7wT/rRBd",
      "include_colab_link": true
    },
    "kernelspec": {
      "name": "python3",
      "display_name": "Python 3"
    },
    "language_info": {
      "name": "python"
    },
    "accelerator": "GPU"
  },
  "cells": [
    {
      "cell_type": "markdown",
      "metadata": {
        "id": "view-in-github",
        "colab_type": "text"
      },
      "source": [
        "<a href=\"https://colab.research.google.com/github/covryzne/tbc-detection-skripsi/blob/main/tbc_detection_skripsi_netebook.ipynb\" target=\"_parent\"><img src=\"https://colab.research.google.com/assets/colab-badge.svg\" alt=\"Open In Colab\"/></a>"
      ]
    },
    {
      "cell_type": "markdown",
      "source": [
        "# **Deteksi Otomatis Tuberkulosis pada Citra X-Ray Dada Menggunakan Densenet121**"
      ],
      "metadata": {
        "id": "wDjN6LqBGXPU"
      }
    },
    {
      "cell_type": "markdown",
      "source": [
        "## **Latar Belakang**\n",
        "**`Tuberkulosis (TB)`** adalah penyakit menular yang disebabkan oleh bakteri **`Mycobacterium tuberculosis`**, yang terutama menyerang paru-paru dan dapat menyebar melalui udara. **`Menurut Global Tuberculosis Report 2024`**, estimasi jumlah orang yang terdiagnosis TB secara global mencapai `10,8` juta kasus di tahun `2023`. Ini mencerminkan peningkatan yang kecil dari 10,7 juta kasus di tahun 2022, meskipun tetap lebih tinggi daripada 10,4 juta kasus pada tahun 2021 dan 10,1 juta pada tahun 2020 [![WHO TB Report](https://img.shields.io/badge/WHO-TB%20Report-blue?logo=world-health-organization)](https://iris.who.int/bitstream/handle/10665/379339/9789240101531-eng.pdf?sequence=1)\n",
        "\n",
        "Dari total kasus TB global, delapan negara menyumbang lebih dari dua pertiga kasus, dengan **`Indonesia`** berada di **`peringkat kedua`** setelah India, menyumbang 10% dari total kasus global. [![WHO TB Report](https://img.shields.io/badge/WHO-TB%20Report-blue?logo=world-health-organization)](https://www.who.int/teams/global-tuberculosis-programme/tb-reports/global-tuberculosis-report-2023/tb-disease-burden/1-1-tb-incidence?)\n",
        "\n",
        "Di tingkat nasional, Kementerian Kesehatan Indonesia melaporkan bahwa pada tahun 2022, Indonesia memiliki 969.000 kasus TB yang dilaporkan, dengan cakupan pengobatan mencapai 71%. Dari jumlah tersebut, 55% pasien adalah laki-laki, 33% perempuan, dan 12% anak-anak (usia 0–14 tahun). [![Indonesia TB Report](https://img.shields.io/badge/KemenkesRI-TB%20Report-green)](https://tbindonesia.or.id/wp-content/uploads/2023/09/Laporan-Tahunan-Program-TBC-2022.pdf)\n",
        "\n",
        "Peningkatan kasus TB ini menunjukkan perlunya inovasi dalam metode deteksi dan diagnosis untuk mengendalikan penyebaran penyakit. Deteksi dini yang akurat sangat penting untuk memastikan pengobatan yang efektif dan mencegah penularan lebih lanjut.\n",
        "\n",
        "## **Permasalahan dan Solusi**\n",
        "Tuberkulosis (TB) masih menjadi masalah kesehatan global, termasuk di Indonesia, yang menempati peringkat kedua dengan jumlah kasus TB tertinggi di dunia setelah India. Metode konvensional dalam mendeteksi TB, seperti pemeriksaan dahak dan tes tuberkulin, memiliki keterbatasan dalam hal kecepatan dan akurasi. Sementara itu, deteksi menggunakan X-ray dada menjadi alternatif yang lebih cepat, tetapi interpretasinya masih bergantung pada keahlian dokter radiologi, yang dapat menyebabkan subjektivitas dalam diagnosis.\n",
        "\n",
        "Untuk mengatasi tantangan ini, penelitian ini mengadopsi pendekatan Deep Learning berbasis Convolutional Neural Network (CNN) sebagai solusi untuk mendeteksi TB secara otomatis melalui gambar X-ray. CNN telah banyak digunakan dalam bidang medis karena kemampuannya dalam mengenali pola kompleks pada citra medis dengan akurasi tinggi.\n",
        "\n",
        "### **Mengapa Menggunakan DenseNet121?**\n",
        "Dalam penelitian ini, dipilih DenseNet121 sebagai model utama karena memiliki efisiensi parameter yang lebih baik, aliran informasi yang lebih optimal, dan akurasi tinggi dalam klasifikasi gambar medis. Tidak seperti CNN konvensional, DenseNet121 menggunakan Densely Connected Layers, di mana setiap layer menerima input dari semua layer sebelumnya. Arsitektur ini mengurangi **`vanishing gradient`**, memungkinkan pemanfaatan ulang fitur, dan meningkatkan ekstraksi fitur tanpa redundansi.\n",
        "\n",
        "Selain itu, DenseNet121 memiliki jumlah parameter yang lebih sedikit dibandingkan arsitektur lain seperti ResNet atau VGG, sehingga lebih ringan, mempercepat proses training, dan mengurangi risiko overfitting. Model ini juga telah terbukti efektif dalam klasifikasi penyakit paru-paru, termasuk TB, menjadikannya pilihan yang tepat untuk mendukung sistem deteksi otomatis TB dalam penelitian ini.\n",
        "\n",
        "Dengan adanya sistem berbasis DenseNet121, diharapkan proses skrining TB dapat dilakukan lebih cepat dan akurat, sehingga dapat membantu tenaga medis dalam mendeteksi TB sejak dini. Namun, sistem ini tetap digunakan **`sebagai alat bantu dan bukan pengganti diagnosis dari dokter spesialis.`**\n",
        "\n",
        "## **Dataset yang Digunakan**\n",
        "Dalam penelitian ini, digunakan dataset Tuberculosis (TB) Chest X-ray dari Kaggle yang bisa diakses pada link dibawah ini:\n",
        "\n",
        "[![Indonesia TB Report](https://img.shields.io/badge/Kaggle-20BEFF?style=for-the-badge&logo=Kaggle&logoColor=white)](https://www.kaggle.com/datasets/tawsifurrahman/tuberculosis-tb-chest-xray-dataset)\n",
        "\n",
        "dataset terdiri dari:\n",
        "  - 700 gambar X-ray positif TB\n",
        "  - 3.500 gambar X-ray normal <br>\n",
        "\n",
        "Dataset ini akan digunakan untuk melatih model DenseNet121, sebuah arsitektur CNN yang telah terbukti memiliki performa tinggi dalam klasifikasi gambar medis.\n",
        "\n",
        "## **Tujuan Penelitian**\n",
        "Penelitian ini bertujuan untuk membangun sistem TB Detector menggunakan DenseNet121 yang mampu mendeteksi indikasi TB pada X-ray dada secara otomatis. Sistem ini diharapkan dapat membantu dalam proses skrining awal TB. Namun, hasil deteksi tetap harus dikonfirmasi oleh dokter spesialis untuk diagnosis yang lebih akurat.\n",
        "\n",
        "Dengan adanya teknologi ini, diharapkan dapat meningkatkan efektivitas deteksi dini TB, terutama di daerah dengan keterbatasan akses terhadap tenaga medis."
      ],
      "metadata": {
        "id": "pmoRjJlHGa5A"
      }
    },
    {
      "cell_type": "markdown",
      "source": [
        "## **Setup GPU**"
      ],
      "metadata": {
        "id": "fv6dUBEZJqrh"
      }
    },
    {
      "cell_type": "code",
      "source": [
        "!pip uninstall torch torchvision torchaudio -y\n",
        "!pip install torch==2.0.1+cu118 torchvision==0.15.2+cu118 torchaudio==2.0.2+cu118 -f https://download.pytorch.org/whl/torch_stable.html"
      ],
      "metadata": {
        "colab": {
          "base_uri": "https://localhost:8080/",
          "height": 983
        },
        "id": "Oz-lZbqIJqTn",
        "outputId": "0ad15b66-0702-4e5b-bca3-dad00f9d97c2"
      },
      "execution_count": 2,
      "outputs": [
        {
          "output_type": "stream",
          "name": "stdout",
          "text": [
            "Found existing installation: torch 2.5.1+cu124\n",
            "Uninstalling torch-2.5.1+cu124:\n",
            "  Successfully uninstalled torch-2.5.1+cu124\n",
            "Found existing installation: torchvision 0.20.1+cu124\n",
            "Uninstalling torchvision-0.20.1+cu124:\n",
            "  Successfully uninstalled torchvision-0.20.1+cu124\n",
            "Found existing installation: torchaudio 2.5.1+cu124\n",
            "Uninstalling torchaudio-2.5.1+cu124:\n",
            "  Successfully uninstalled torchaudio-2.5.1+cu124\n",
            "Looking in links: https://download.pytorch.org/whl/torch_stable.html\n",
            "Collecting torch==2.0.1+cu118\n",
            "  Downloading https://download.pytorch.org/whl/cu118/torch-2.0.1%2Bcu118-cp311-cp311-linux_x86_64.whl (2267.3 MB)\n",
            "\u001b[2K     \u001b[90m━━━━━━━━━━━━━━━━━━━━━━━━━━━━━━━━━━━━━━━━\u001b[0m \u001b[32m2.3/2.3 GB\u001b[0m \u001b[31m572.1 kB/s\u001b[0m eta \u001b[36m0:00:00\u001b[0m\n",
            "\u001b[?25h\u001b[33mWARNING: Retrying (Retry(total=4, connect=None, read=None, redirect=None, status=None)) after connection broken by 'ProtocolError('Connection aborted.', RemoteDisconnected('Remote end closed connection without response'))': /simple/torchvision/\u001b[0m\u001b[33m\n",
            "\u001b[0mCollecting torchvision==0.15.2+cu118\n",
            "  Downloading https://download.pytorch.org/whl/cu118/torchvision-0.15.2%2Bcu118-cp311-cp311-linux_x86_64.whl (6.1 MB)\n",
            "\u001b[2K     \u001b[90m━━━━━━━━━━━━━━━━━━━━━━━━━━━━━━━━━━━━━━━━\u001b[0m \u001b[32m6.1/6.1 MB\u001b[0m \u001b[31m57.1 MB/s\u001b[0m eta \u001b[36m0:00:00\u001b[0m\n",
            "\u001b[?25hCollecting torchaudio==2.0.2+cu118\n",
            "  Downloading https://download.pytorch.org/whl/cu118/torchaudio-2.0.2%2Bcu118-cp311-cp311-linux_x86_64.whl (4.4 MB)\n",
            "\u001b[2K     \u001b[90m━━━━━━━━━━━━━━━━━━━━━━━━━━━━━━━━━━━━━━━━\u001b[0m \u001b[32m4.4/4.4 MB\u001b[0m \u001b[31m94.4 MB/s\u001b[0m eta \u001b[36m0:00:00\u001b[0m\n",
            "\u001b[?25hRequirement already satisfied: filelock in /usr/local/lib/python3.11/dist-packages (from torch==2.0.1+cu118) (3.17.0)\n",
            "Requirement already satisfied: typing-extensions in /usr/local/lib/python3.11/dist-packages (from torch==2.0.1+cu118) (4.12.2)\n",
            "Requirement already satisfied: sympy in /usr/local/lib/python3.11/dist-packages (from torch==2.0.1+cu118) (1.13.1)\n",
            "Requirement already satisfied: networkx in /usr/local/lib/python3.11/dist-packages (from torch==2.0.1+cu118) (3.4.2)\n",
            "Requirement already satisfied: jinja2 in /usr/local/lib/python3.11/dist-packages (from torch==2.0.1+cu118) (3.1.6)\n",
            "Collecting triton==2.0.0 (from torch==2.0.1+cu118)\n",
            "  Downloading triton-2.0.0-1-cp311-cp311-manylinux2014_x86_64.manylinux_2_17_x86_64.whl.metadata (1.0 kB)\n",
            "Requirement already satisfied: numpy in /usr/local/lib/python3.11/dist-packages (from torchvision==0.15.2+cu118) (1.26.4)\n",
            "Requirement already satisfied: requests in /usr/local/lib/python3.11/dist-packages (from torchvision==0.15.2+cu118) (2.32.3)\n",
            "Requirement already satisfied: pillow!=8.3.*,>=5.3.0 in /usr/local/lib/python3.11/dist-packages (from torchvision==0.15.2+cu118) (11.1.0)\n",
            "Requirement already satisfied: cmake in /usr/local/lib/python3.11/dist-packages (from triton==2.0.0->torch==2.0.1+cu118) (3.31.6)\n",
            "Collecting lit (from triton==2.0.0->torch==2.0.1+cu118)\n",
            "  Downloading lit-18.1.8-py3-none-any.whl.metadata (2.5 kB)\n",
            "Requirement already satisfied: MarkupSafe>=2.0 in /usr/local/lib/python3.11/dist-packages (from jinja2->torch==2.0.1+cu118) (3.0.2)\n",
            "Requirement already satisfied: charset-normalizer<4,>=2 in /usr/local/lib/python3.11/dist-packages (from requests->torchvision==0.15.2+cu118) (3.4.1)\n",
            "Requirement already satisfied: idna<4,>=2.5 in /usr/local/lib/python3.11/dist-packages (from requests->torchvision==0.15.2+cu118) (3.10)\n",
            "Requirement already satisfied: urllib3<3,>=1.21.1 in /usr/local/lib/python3.11/dist-packages (from requests->torchvision==0.15.2+cu118) (2.3.0)\n",
            "Requirement already satisfied: certifi>=2017.4.17 in /usr/local/lib/python3.11/dist-packages (from requests->torchvision==0.15.2+cu118) (2025.1.31)\n",
            "Requirement already satisfied: mpmath<1.4,>=1.1.0 in /usr/local/lib/python3.11/dist-packages (from sympy->torch==2.0.1+cu118) (1.3.0)\n",
            "Downloading triton-2.0.0-1-cp311-cp311-manylinux2014_x86_64.manylinux_2_17_x86_64.whl (63.3 MB)\n",
            "\u001b[2K   \u001b[90m━━━━━━━━━━━━━━━━━━━━━━━━━━━━━━━━━━━━━━━━\u001b[0m \u001b[32m63.3/63.3 MB\u001b[0m \u001b[31m12.6 MB/s\u001b[0m eta \u001b[36m0:00:00\u001b[0m\n",
            "\u001b[?25hDownloading lit-18.1.8-py3-none-any.whl (96 kB)\n",
            "\u001b[2K   \u001b[90m━━━━━━━━━━━━━━━━━━━━━━━━━━━━━━━━━━━━━━━━\u001b[0m \u001b[32m96.4/96.4 kB\u001b[0m \u001b[31m9.3 MB/s\u001b[0m eta \u001b[36m0:00:00\u001b[0m\n",
            "\u001b[?25hInstalling collected packages: lit, triton, torch, torchvision, torchaudio\n",
            "  Attempting uninstall: triton\n",
            "    Found existing installation: triton 3.1.0\n",
            "    Uninstalling triton-3.1.0:\n",
            "      Successfully uninstalled triton-3.1.0\n",
            "Successfully installed lit-18.1.8 torch-2.0.1+cu118 torchaudio-2.0.2+cu118 torchvision-0.15.2+cu118 triton-2.0.0\n"
          ]
        },
        {
          "output_type": "display_data",
          "data": {
            "application/vnd.colab-display-data+json": {
              "pip_warning": {
                "packages": [
                  "torch",
                  "torchgen",
                  "torchvision",
                  "triton"
                ]
              },
              "id": "53d0d1f6de7c4307ad944b9173f3681a"
            }
          },
          "metadata": {}
        }
      ]
    },
    {
      "cell_type": "markdown",
      "source": [
        "## **Import Libraries**"
      ],
      "metadata": {
        "id": "8r285gpyIZlF"
      }
    },
    {
      "cell_type": "code",
      "execution_count": 9,
      "metadata": {
        "id": "s20Db0sgGQVE"
      },
      "outputs": [],
      "source": [
        "import os\n",
        "import random\n",
        "import numpy as np\n",
        "import pandas as pd\n",
        "from PIL import Image\n",
        "import matplotlib.pyplot as plt\n",
        "from sklearn.model_selection import train_test_split\n",
        "import glob\n",
        "import shutil\n",
        "import time\n",
        "\n",
        "import torch\n",
        "import torchvision\n",
        "import torch.nn as nn\n",
        "import torch.optim as optim\n",
        "import torch.nn.functional as F\n",
        "from torch.utils.data import Dataset\n",
        "from torchvision.io import read_image\n",
        "from torch.utils.data import DataLoader\n",
        "from torchvision import datasets, models, transforms\n",
        "from torchvision.models import densenet121,DenseNet121_Weights, DenseNet"
      ]
    },
    {
      "cell_type": "code",
      "source": [
        "print(torch.cuda.is_available())  # Harusnya True\n",
        "print(torch.cuda.device_count())  # Harusnya > 0\n",
        "print(torch.cuda.get_device_name(0))  # Cek nama GPU"
      ],
      "metadata": {
        "colab": {
          "base_uri": "https://localhost:8080/"
        },
        "id": "ImRfhC9ONA4c",
        "outputId": "2ddcfc38-5b57-4cfd-d6b4-c5e6fa74ed6b"
      },
      "execution_count": 2,
      "outputs": [
        {
          "output_type": "stream",
          "name": "stdout",
          "text": [
            "True\n",
            "1\n",
            "Tesla T4\n"
          ]
        }
      ]
    },
    {
      "cell_type": "code",
      "source": [
        "print(torch.version.cuda)\n",
        "print(torch.backends.cudnn.version())"
      ],
      "metadata": {
        "colab": {
          "base_uri": "https://localhost:8080/"
        },
        "id": "6LJb5aefNC7T",
        "outputId": "f8e53f9c-a16e-47a9-f3cf-b5d258c49910"
      },
      "execution_count": 3,
      "outputs": [
        {
          "output_type": "stream",
          "name": "stdout",
          "text": [
            "11.8\n",
            "8700\n"
          ]
        }
      ]
    },
    {
      "cell_type": "code",
      "source": [
        "device = torch.device(\"cuda\" if torch.cuda.is_available() else \"cpu\")\n",
        "print(device)  # Harusnya output: \"cuda\"\n",
        "\n",
        "# Coba buat tensor di GPU\n",
        "x = torch.randn(3, 3).to(device)\n",
        "print(x.device)  # Harusnya output: \"cuda:0\""
      ],
      "metadata": {
        "colab": {
          "base_uri": "https://localhost:8080/"
        },
        "id": "RHjHwY3kNFyk",
        "outputId": "c67d0f77-9afe-4dbc-a326-b9bff69ce246"
      },
      "execution_count": 4,
      "outputs": [
        {
          "output_type": "stream",
          "name": "stdout",
          "text": [
            "cuda\n",
            "cuda:0\n"
          ]
        }
      ]
    },
    {
      "cell_type": "code",
      "source": [
        "print(torch.__version__)  # Pastikan versinya 2.0.1+cu118\n",
        "print(torch.cuda.is_available())  # Harusnya True\n",
        "print(torch.cuda.get_device_name(0))  # Pastikan tetap Tesla T4"
      ],
      "metadata": {
        "colab": {
          "base_uri": "https://localhost:8080/"
        },
        "id": "M-vq5d59NIEN",
        "outputId": "0dc6c467-456a-4f26-e7cc-6b7cb0f97908"
      },
      "execution_count": 5,
      "outputs": [
        {
          "output_type": "stream",
          "name": "stdout",
          "text": [
            "2.0.1+cu118\n",
            "True\n",
            "Tesla T4\n"
          ]
        }
      ]
    },
    {
      "cell_type": "markdown",
      "source": [
        "## **Konfigurasi Awal Menggunakan Teknik Seed Reproducibility**\n",
        "Menggunakan **`seed reproducibilty`** dikarenakan agar hasil eksperimen tidak berubah tiap kali dijalankan (misalnya inisialisasi bobot model, shuffling data, dll.)."
      ],
      "metadata": {
        "id": "ElaTre6NNnqY"
      }
    },
    {
      "cell_type": "code",
      "source": [
        "SEED = 1234\n",
        "\n",
        "def set_seeds(seed=1234):\n",
        "    \"\"\"Set seeds for reproducibility.\"\"\"\n",
        "    np.random.seed(seed)\n",
        "    random.seed(seed)\n",
        "    torch.manual_seed(seed)\n",
        "    torch.cuda.manual_seed(seed)\n",
        "    torch.cuda.manual_seed_all(seed)\n",
        "\n",
        "set_seeds(seed=SEED)\n",
        "\n",
        "cuda = True\n",
        "device = torch.device(\"cuda\" if (\n",
        "    torch.cuda.is_available() and cuda) else \"cpu\")\n",
        "\n",
        "print(device)"
      ],
      "metadata": {
        "colab": {
          "base_uri": "https://localhost:8080/"
        },
        "id": "fxCKVJMeNn-D",
        "outputId": "7316233f-53d6-4373-898e-951849629e1a"
      },
      "execution_count": 6,
      "outputs": [
        {
          "output_type": "stream",
          "name": "stdout",
          "text": [
            "cuda\n"
          ]
        }
      ]
    },
    {
      "cell_type": "markdown",
      "source": [
        "dipake nanti ketika menentukan metrics yang akan dipake yaitu `accuracy`, `F1 Score` dan `AUROC`"
      ],
      "metadata": {
        "id": "Hv51-m8kNtnM"
      }
    },
    {
      "cell_type": "code",
      "source": [
        "!pip install torchmetrics --no-deps"
      ],
      "metadata": {
        "colab": {
          "base_uri": "https://localhost:8080/"
        },
        "id": "RT6i_TLlNqiC",
        "outputId": "a8839b35-7703-414f-9640-5ee402dbd75e"
      },
      "execution_count": 7,
      "outputs": [
        {
          "output_type": "stream",
          "name": "stdout",
          "text": [
            "Collecting torchmetrics\n",
            "  Downloading torchmetrics-1.6.2-py3-none-any.whl.metadata (20 kB)\n",
            "Downloading torchmetrics-1.6.2-py3-none-any.whl (931 kB)\n",
            "\u001b[?25l   \u001b[90m━━━━━━━━━━━━━━━━━━━━━━━━━━━━━━━━━━━━━━━━\u001b[0m \u001b[32m0.0/931.6 kB\u001b[0m \u001b[31m?\u001b[0m eta \u001b[36m-:--:--\u001b[0m\r\u001b[2K   \u001b[90m━━━━━━━━━━━━━━━━━━━━━━━━━━━━━━━━━━━━━━━━\u001b[0m \u001b[32m931.6/931.6 kB\u001b[0m \u001b[31m46.4 MB/s\u001b[0m eta \u001b[36m0:00:00\u001b[0m\n",
            "\u001b[?25hInstalling collected packages: torchmetrics\n",
            "Successfully installed torchmetrics-1.6.2\n"
          ]
        }
      ]
    },
    {
      "cell_type": "code",
      "source": [
        "print(torch.version.cuda)  # Harusnya 12.4\n",
        "print(torch.cuda.is_available())  # Harusnya True\n",
        "print(torch.cuda.get_device_name(0))  # Harusnya Tesla T4"
      ],
      "metadata": {
        "colab": {
          "base_uri": "https://localhost:8080/"
        },
        "id": "2ylAu-0pNy6X",
        "outputId": "d570538c-63c8-471a-9288-d33b7d609c75"
      },
      "execution_count": 8,
      "outputs": [
        {
          "output_type": "stream",
          "name": "stdout",
          "text": [
            "11.8\n",
            "True\n",
            "Tesla T4\n"
          ]
        }
      ]
    },
    {
      "cell_type": "code",
      "source": [
        "device = torch.device(\"cuda\" if torch.cuda.is_available() else \"cpu\")\n",
        "\n",
        "# Buat tensor besar\n",
        "x = torch.randn(10000, 10000, device=device)\n",
        "\n",
        "# Coba operasi di GPU\n",
        "start = time.time()\n",
        "y = torch.matmul(x, x)\n",
        "torch.cuda.synchronize()  # Sinkronisasi untuk timing yang akurat\n",
        "end = time.time()\n",
        "\n",
        "print(f\"GPU computation time: {end - start:.4f} seconds\")"
      ],
      "metadata": {
        "colab": {
          "base_uri": "https://localhost:8080/"
        },
        "id": "cfxULQMNN4MS",
        "outputId": "b4d92f22-04b1-45c7-8e8b-15c4af8c212f"
      },
      "execution_count": 10,
      "outputs": [
        {
          "output_type": "stream",
          "name": "stdout",
          "text": [
            "GPU computation time: 0.6312 seconds\n"
          ]
        }
      ]
    }
  ]
}