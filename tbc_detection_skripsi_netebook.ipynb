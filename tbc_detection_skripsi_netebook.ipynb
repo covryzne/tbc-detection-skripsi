{
  "nbformat": 4,
  "nbformat_minor": 0,
  "metadata": {
    "colab": {
      "provenance": [],
      "authorship_tag": "ABX9TyNz0WhbrUqbSfMuQDfXog0t",
      "include_colab_link": true
    },
    "kernelspec": {
      "name": "python3",
      "display_name": "Python 3"
    },
    "language_info": {
      "name": "python"
    }
  },
  "cells": [
    {
      "cell_type": "markdown",
      "metadata": {
        "id": "view-in-github",
        "colab_type": "text"
      },
      "source": [
        "<a href=\"https://colab.research.google.com/github/covryzne/tbc-detection-skripsi/blob/main/tbc_detection_skripsi_netebook.ipynb\" target=\"_parent\"><img src=\"https://colab.research.google.com/assets/colab-badge.svg\" alt=\"Open In Colab\"/></a>"
      ]
    },
    {
      "cell_type": "markdown",
      "source": [
        "# **Deteksi Otomatis Tuberkulosis pada Citra X-Ray Dada Menggunakan Densenet121**"
      ],
      "metadata": {
        "id": "wDjN6LqBGXPU"
      }
    },
    {
      "cell_type": "markdown",
      "source": [
        "## **Latar Belakang**\n",
        "**`Tuberkulosis (TB)`** adalah penyakit menular yang disebabkan oleh bakteri **`Mycobacterium tuberculosis`**, yang terutama menyerang paru-paru dan dapat menyebar melalui udara. **`Menurut Global Tuberculosis Report 2024`**, estimasi jumlah orang yang terdiagnosis TB secara global mencapai `10,8` juta kasus di tahun `2023`. Ini mencerminkan peningkatan yang kecil dari 10,7 juta kasus di tahun 2022, meskipun tetap lebih tinggi daripada 10,4 juta kasus pada tahun 2021 dan 10,1 juta pada tahun 2020 [![WHO TB Report](https://img.shields.io/badge/WHO-TB%20Report-blue?logo=world-health-organization)](https://iris.who.int/bitstream/handle/10665/379339/9789240101531-eng.pdf?sequence=1)\n",
        "\n",
        "Dari total kasus TB global, delapan negara menyumbang lebih dari dua pertiga kasus, dengan **`Indonesia`** berada di **`peringkat kedua`** setelah India, menyumbang 10% dari total kasus global. [![WHO TB Report](https://img.shields.io/badge/WHO-TB%20Report-blue?logo=world-health-organization)](https://www.who.int/teams/global-tuberculosis-programme/tb-reports/global-tuberculosis-report-2023/tb-disease-burden/1-1-tb-incidence?)\n",
        "\n",
        "Di tingkat nasional, Kementerian Kesehatan Indonesia melaporkan bahwa pada tahun 2022, Indonesia memiliki 969.000 kasus TB yang dilaporkan, dengan cakupan pengobatan mencapai 71%. Dari jumlah tersebut, 55% pasien adalah laki-laki, 33% perempuan, dan 12% anak-anak (usia 0–14 tahun). [![Indonesia TB Report](https://img.shields.io/badge/KemenkesRI-TB%20Report-green)](https://tbindonesia.or.id/wp-content/uploads/2023/09/Laporan-Tahunan-Program-TBC-2022.pdf)\n",
        "\n",
        "Peningkatan kasus TB ini menunjukkan perlunya inovasi dalam metode deteksi dan diagnosis untuk mengendalikan penyebaran penyakit. Deteksi dini yang akurat sangat penting untuk memastikan pengobatan yang efektif dan mencegah penularan lebih lanjut.\n",
        "\n",
        "## **Permasalahan dan Solusi**\n",
        "Tuberkulosis (TB) masih menjadi masalah kesehatan global, termasuk di Indonesia, yang menempati peringkat kedua dengan jumlah kasus TB tertinggi di dunia setelah India. Metode konvensional dalam mendeteksi TB, seperti pemeriksaan dahak dan tes tuberkulin, memiliki keterbatasan dalam hal kecepatan dan akurasi. Sementara itu, deteksi menggunakan X-ray dada menjadi alternatif yang lebih cepat, tetapi interpretasinya masih bergantung pada keahlian dokter radiologi, yang dapat menyebabkan subjektivitas dalam diagnosis.\n",
        "\n",
        "Untuk mengatasi tantangan ini, penelitian ini mengadopsi pendekatan Deep Learning berbasis Convolutional Neural Network (CNN) sebagai solusi untuk mendeteksi TB secara otomatis melalui gambar X-ray. CNN telah banyak digunakan dalam bidang medis karena kemampuannya dalam mengenali pola kompleks pada citra medis dengan akurasi tinggi.\n",
        "\n"
      ],
      "metadata": {
        "id": "pmoRjJlHGa5A"
      }
    },
    {
      "cell_type": "code",
      "execution_count": null,
      "metadata": {
        "id": "s20Db0sgGQVE"
      },
      "outputs": [],
      "source": []
    }
  ]
}